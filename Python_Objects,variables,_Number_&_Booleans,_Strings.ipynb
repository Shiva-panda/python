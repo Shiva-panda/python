{
  "nbformat": 4,
  "nbformat_minor": 0,
  "metadata": {
    "colab": {
      "provenance": [],
      "include_colab_link": true
    },
    "kernelspec": {
      "name": "python3",
      "display_name": "Python 3"
    },
    "language_info": {
      "name": "python"
    }
  },
  "cells": [
    {
      "cell_type": "markdown",
      "metadata": {
        "id": "view-in-github",
        "colab_type": "text"
      },
      "source": [
        "<a href=\"https://colab.research.google.com/github/Shiva-panda/python/blob/main/Python_Objects%2Cvariables%2C_Number_%26_Booleans%2C_Strings.ipynb\" target=\"_parent\"><img src=\"https://colab.research.google.com/assets/colab-badge.svg\" alt=\"Open In Colab\"/></a>"
      ]
    },
    {
      "cell_type": "markdown",
      "source": [
        "Python is an object-oriented programming language, which means it deals with objects. Everything in Python is an object, including numbers, strings, lists, and even functions. Objects have attributes and methods associated with them.\n",
        "\n",
        "**Numbers:**\n",
        "\n",
        "Python supports various types of numbers, including integers, floating-point numbers, and complex numbers.\n",
        "\n",
        "- Integer:\n",
        "\n",
        "\n",
        "Represents integers (whole numbers)."
      ],
      "metadata": {
        "id": "sqjsNah07fKH"
      }
    },
    {
      "cell_type": "code",
      "execution_count": null,
      "metadata": {
        "colab": {
          "base_uri": "https://localhost:8080/"
        },
        "id": "W07Yt5o27eSo",
        "outputId": "171a7112-bc0f-47e5-f7ad-77a91ba77d31"
      },
      "outputs": [
        {
          "output_type": "stream",
          "name": "stdout",
          "text": [
            "42\n",
            "<class 'int'>\n"
          ]
        }
      ],
      "source": [
        "num_int = 42\n",
        "print(num_int)\n",
        "print(type(num_int))"
      ]
    },
    {
      "cell_type": "markdown",
      "source": [
        "- Float"
      ],
      "metadata": {
        "id": "-7u9vgzE77gW"
      }
    },
    {
      "cell_type": "code",
      "source": [
        "num_int_error = 3.14\n",
        "print(num_int_error)\n",
        "print(type(num_int_error))"
      ],
      "metadata": {
        "colab": {
          "base_uri": "https://localhost:8080/"
        },
        "id": "ZONpB5eQ75eo",
        "outputId": "9d34fbb5-25e0-4d6f-d003-e257f2af6397"
      },
      "execution_count": null,
      "outputs": [
        {
          "output_type": "stream",
          "name": "stdout",
          "text": [
            "3.14\n",
            "<class 'float'>\n"
          ]
        }
      ]
    },
    {
      "cell_type": "markdown",
      "source": [
        "- Complex"
      ],
      "metadata": {
        "id": "BSFnBVfnAgJp"
      }
    },
    {
      "cell_type": "code",
      "source": [
        "num_complex = 2 + 3j\n",
        "print(num_complex)  #\n",
        "print(type(num_complex))"
      ],
      "metadata": {
        "colab": {
          "base_uri": "https://localhost:8080/"
        },
        "id": "YryT8h3_7_yZ",
        "outputId": "44a3d44d-cbf3-4ff8-f8d6-dc692ec64e56"
      },
      "execution_count": null,
      "outputs": [
        {
          "output_type": "stream",
          "name": "stdout",
          "text": [
            "(2+3j)\n",
            "<class 'complex'>\n"
          ]
        }
      ]
    },
    {
      "cell_type": "markdown",
      "source": [
        "**Bool**: Booleans represent truth values, either `True` or `False`.\n"
      ],
      "metadata": {
        "id": "7mrjWT2smQ0E"
      }
    },
    {
      "cell_type": "code",
      "source": [
        "bool_true = True\n",
        "print(bool_true)\n",
        "print(type(bool_true))\n"
      ],
      "metadata": {
        "colab": {
          "base_uri": "https://localhost:8080/"
        },
        "id": "0FoVjTW7mKJ4",
        "outputId": "3e32a838-61ff-4b5f-9df5-187d33416dd8"
      },
      "execution_count": null,
      "outputs": [
        {
          "output_type": "stream",
          "name": "stdout",
          "text": [
            "True\n",
            "<class 'bool'>\n"
          ]
        }
      ]
    },
    {
      "cell_type": "code",
      "source": [
        "bool_false = False\n",
        "print(bool_false)\n",
        "print(type(bool_false))"
      ],
      "metadata": {
        "colab": {
          "base_uri": "https://localhost:8080/"
        },
        "id": "c6eIjMdbmVme",
        "outputId": "aa51978a-8a7a-4841-d394-78ffd2d3e979"
      },
      "execution_count": null,
      "outputs": [
        {
          "output_type": "stream",
          "name": "stdout",
          "text": [
            "False\n",
            "<class 'bool'>\n"
          ]
        }
      ]
    },
    {
      "cell_type": "markdown",
      "source": [
        "**Set**:\n",
        "\n",
        "A set is an unordered collection of unique elements. Sets are mutable, meaning they can be modified after creation, but they cannot contain duplicate elements."
      ],
      "metadata": {
        "id": "pNGUKTXOmho6"
      }
    },
    {
      "cell_type": "code",
      "source": [
        "my_set = {1, 2, 3, 4, 5}\n",
        "print(my_set)\n",
        "print(type(my_set))"
      ],
      "metadata": {
        "colab": {
          "base_uri": "https://localhost:8080/"
        },
        "id": "bI_VWnypmc9Z",
        "outputId": "35fb16b1-552f-4ed3-8c14-4d2c522b87ee"
      },
      "execution_count": null,
      "outputs": [
        {
          "output_type": "stream",
          "name": "stdout",
          "text": [
            "{1, 2, 3, 4, 5}\n",
            "<class 'set'>\n"
          ]
        }
      ]
    },
    {
      "cell_type": "code",
      "source": [
        "my_dict = {'name': 'John', 'age': 25, 'city': 'New York'}\n",
        "print(my_dict)\n",
        "print(type(my_dict))\n"
      ],
      "metadata": {
        "colab": {
          "base_uri": "https://localhost:8080/"
        },
        "id": "F90wgK3hmnpa",
        "outputId": "83ff6a17-9fa8-4d72-f355-5b83b60b03f4"
      },
      "execution_count": null,
      "outputs": [
        {
          "output_type": "stream",
          "name": "stdout",
          "text": [
            "{'name': 'John', 'age': 25, 'city': 'New York'}\n",
            "<class 'dict'>\n"
          ]
        }
      ]
    },
    {
      "cell_type": "markdown",
      "source": [
        "**Sequence:**\n",
        "\n",
        "Strings in Python are sequences of characters enclosed in single, double, or triple quotes. They support various operations such as concatenation, slicing, and formatting."
      ],
      "metadata": {
        "id": "ffkaUzqlm1wq"
      }
    },
    {
      "cell_type": "code",
      "source": [
        "my_str = \"Hello, World!\"\n",
        "print(my_str)\n",
        "print(type(my_str))\n"
      ],
      "metadata": {
        "colab": {
          "base_uri": "https://localhost:8080/"
        },
        "id": "prMtcJ5UmxGL",
        "outputId": "4b305fe6-7e33-40d1-d419-bd1af574e8b5"
      },
      "execution_count": null,
      "outputs": [
        {
          "output_type": "stream",
          "name": "stdout",
          "text": [
            "Hello, World!\n",
            "<class 'str'>\n"
          ]
        }
      ]
    },
    {
      "cell_type": "markdown",
      "source": [
        "**List**:\n",
        "\n",
        "A list is a versatile data structure used to store collections of items. Lists are mutable, meaning they can be modified after creation. Each item in a list is indexed, and you can access elements by their index. Lists can contain items of different data types, and they can also contain other lists (nested lists)."
      ],
      "metadata": {
        "id": "oBIjwNTjBGcs"
      }
    },
    {
      "cell_type": "code",
      "source": [
        "my_list = [1, 2, 3, 4, 5]\n",
        "print(my_list)\n",
        "print(type(my_list))\n"
      ],
      "metadata": {
        "colab": {
          "base_uri": "https://localhost:8080/"
        },
        "id": "qE3nTe5Om-Xq",
        "outputId": "248cd778-a854-4d9e-c1e4-385e485f450e"
      },
      "execution_count": null,
      "outputs": [
        {
          "output_type": "stream",
          "name": "stdout",
          "text": [
            "[1, 2, 3, 4, 5]\n",
            "<class 'list'>\n"
          ]
        }
      ]
    },
    {
      "cell_type": "markdown",
      "source": [
        "**Tuple**:\n",
        "\n",
        "A tuple in Python is a collection of ordered and immutable elements. It is similar to a list, but unlike lists, tuples are immutable, meaning their elements cannot be changed after creation. Tuples are defined using parentheses () and can contain elements of different data types."
      ],
      "metadata": {
        "id": "6oT9SbfrnH-r"
      }
    },
    {
      "cell_type": "code",
      "source": [
        "my_tuple = (1, 'two', 3.0)\n",
        "print(my_tuple)\n",
        "print(type(my_tuple))\n"
      ],
      "metadata": {
        "colab": {
          "base_uri": "https://localhost:8080/"
        },
        "id": "yS10BqrNnEpO",
        "outputId": "9f015218-8a3f-48a4-ccd3-0244fb53023d"
      },
      "execution_count": null,
      "outputs": [
        {
          "output_type": "stream",
          "name": "stdout",
          "text": [
            "(1, 'two', 3.0)\n",
            "<class 'tuple'>\n"
          ]
        }
      ]
    },
    {
      "cell_type": "markdown",
      "source": [
        "**None**:\n",
        "\n",
        "`None` is a special constant representing the absence of a value or a null value. It is often used to indicate that a variable or an object does not have a meaningful value or has not been assigned yet."
      ],
      "metadata": {
        "id": "hmzBpTgwnVae"
      }
    },
    {
      "cell_type": "code",
      "source": [
        "my_none = None\n",
        "print(my_none)\n",
        "print(type(my_none))\n"
      ],
      "metadata": {
        "colab": {
          "base_uri": "https://localhost:8080/"
        },
        "id": "0IJmk8L4nQXP",
        "outputId": "6c8a252d-e724-43cc-db68-711b795916c8"
      },
      "execution_count": null,
      "outputs": [
        {
          "output_type": "stream",
          "name": "stdout",
          "text": [
            "None\n",
            "<class 'NoneType'>\n"
          ]
        }
      ]
    },
    {
      "cell_type": "code",
      "source": [
        "print(\"shiva\")\n",
        "print(\"hello\")"
      ],
      "metadata": {
        "id": "vnEV90rgU667",
        "outputId": "65fb0c3e-bb9f-44c4-ee7c-4cac7ee340c5",
        "colab": {
          "base_uri": "https://localhost:8080/"
        }
      },
      "execution_count": 1,
      "outputs": [
        {
          "output_type": "stream",
          "name": "stdout",
          "text": [
            "shiva\n",
            "hello\n"
          ]
        }
      ]
    },
    {
      "cell_type": "code",
      "source": [],
      "metadata": {
        "id": "5-ZzXAUPInjq"
      },
      "execution_count": null,
      "outputs": []
    }
  ]
}