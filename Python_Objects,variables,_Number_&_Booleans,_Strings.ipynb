{
  "nbformat": 4,
  "nbformat_minor": 0,
  "metadata": {
    "colab": {
      "provenance": [],
      "include_colab_link": true
    },
    "kernelspec": {
      "name": "python3",
      "display_name": "Python 3"
    },
    "language_info": {
      "name": "python"
    }
  },
  "cells": [
    {
      "cell_type": "markdown",
      "metadata": {
        "id": "view-in-github",
        "colab_type": "text"
      },
      "source": [
        "<a href=\"https://colab.research.google.com/github/Shiva-panda/python/blob/main/Python_Objects%2Cvariables%2C_Number_%26_Booleans%2C_Strings.ipynb\" target=\"_parent\"><img src=\"https://colab.research.google.com/assets/colab-badge.svg\" alt=\"Open In Colab\"/></a>"
      ]
    },
    {
      "cell_type": "markdown",
      "source": [
        "Python is an object-oriented programming language, which means it deals with objects. Everything in Python is an object, including numbers, strings, lists, and even functions. Objects have attributes and methods associated with them.\n",
        "\n",
        "**Numbers:**\n",
        "\n",
        "Python supports various types of numbers, including integers, floating-point numbers, and complex numbers.\n",
        "\n",
        "- Integer:\n",
        "\n",
        "\n",
        "Represents integers (whole numbers)."
      ],
      "metadata": {
        "id": "sqjsNah07fKH"
      }
    },
    {
      "cell_type": "code",
      "source": [
        "MAX_VAL=10; MIN_VAL=1\n",
        "print(MAX_VAL+MIN_VAL)\n",
        "MAX_VAL=100\n",
        "print(MAX_VAL+MIN_VAL)\n",
        "\n",
        "#Example:\n",
        "PYSTR=\"HELLO\"#String literals:\n",
        "PYINT=10#Integer Literal\n",
        "PYFLOAT=10.99#Float Literal\n",
        "PYCOM=1+2j#Complex Literal\n",
        "PYBOOL=True#Boolean Literal\n",
        "PYBOOL=False#Boolean Literal\n",
        "PYSPE=None#Special Literal\n",
        "PYLIST=[1,2,3,4,5]#LIST Literal\n",
        "PYTUPLE=(1,2,3,4,5)#Tuple Literal\n",
        "PYSET={1,2,3,4,5}#Set Literal\n",
        "PYDICT={1:\"Raj\"}#Dictionary Literal\n"
      ],
      "metadata": {
        "id": "Xnpg0m7OKR3z",
        "outputId": "35a29858-8ea5-4ad4-b7d4-74b22bdc3eb3",
        "colab": {
          "base_uri": "https://localhost:8080/"
        }
      },
      "execution_count": 4,
      "outputs": [
        {
          "output_type": "stream",
          "name": "stdout",
          "text": [
            "11\n",
            "101\n"
          ]
        }
      ]
    },
    {
      "cell_type": "code",
      "source": [],
      "metadata": {
        "id": "MR8tAu1rKRql"
      },
      "execution_count": null,
      "outputs": []
    },
    {
      "cell_type": "code",
      "source": [],
      "metadata": {
        "id": "DjG5SQgYKRdg"
      },
      "execution_count": null,
      "outputs": []
    },
    {
      "cell_type": "code",
      "execution_count": null,
      "metadata": {
        "colab": {
          "base_uri": "https://localhost:8080/"
        },
        "id": "W07Yt5o27eSo",
        "outputId": "171a7112-bc0f-47e5-f7ad-77a91ba77d31"
      },
      "outputs": [
        {
          "output_type": "stream",
          "name": "stdout",
          "text": [
            "42\n",
            "<class 'int'>\n"
          ]
        }
      ],
      "source": [
        "num_int = 42\n",
        "print(num_int)\n",
        "print(type(num_int))"
      ]
    },
    {
      "cell_type": "markdown",
      "source": [
        "- Float"
      ],
      "metadata": {
        "id": "-7u9vgzE77gW"
      }
    },
    {
      "cell_type": "code",
      "source": [
        "num_int_error = 3.14\n",
        "print(num_int_error)\n",
        "print(type(num_int_error))"
      ],
      "metadata": {
        "colab": {
          "base_uri": "https://localhost:8080/"
        },
        "id": "ZONpB5eQ75eo",
        "outputId": "9d34fbb5-25e0-4d6f-d003-e257f2af6397"
      },
      "execution_count": null,
      "outputs": [
        {
          "output_type": "stream",
          "name": "stdout",
          "text": [
            "3.14\n",
            "<class 'float'>\n"
          ]
        }
      ]
    },
    {
      "cell_type": "markdown",
      "source": [
        "- Complex"
      ],
      "metadata": {
        "id": "BSFnBVfnAgJp"
      }
    },
    {
      "cell_type": "code",
      "source": [
        "num_complex = 2 + 3j\n",
        "print(num_complex)  #\n",
        "print(type(num_complex))"
      ],
      "metadata": {
        "colab": {
          "base_uri": "https://localhost:8080/"
        },
        "id": "YryT8h3_7_yZ",
        "outputId": "44a3d44d-cbf3-4ff8-f8d6-dc692ec64e56"
      },
      "execution_count": null,
      "outputs": [
        {
          "output_type": "stream",
          "name": "stdout",
          "text": [
            "(2+3j)\n",
            "<class 'complex'>\n"
          ]
        }
      ]
    },
    {
      "cell_type": "markdown",
      "source": [
        "**Bool**: Booleans represent truth values, either `True` or `False`.\n"
      ],
      "metadata": {
        "id": "7mrjWT2smQ0E"
      }
    },
    {
      "cell_type": "code",
      "source": [
        "bool_true = True\n",
        "print(bool_true)\n",
        "print(type(bool_true))\n"
      ],
      "metadata": {
        "colab": {
          "base_uri": "https://localhost:8080/"
        },
        "id": "0FoVjTW7mKJ4",
        "outputId": "3e32a838-61ff-4b5f-9df5-187d33416dd8"
      },
      "execution_count": null,
      "outputs": [
        {
          "output_type": "stream",
          "name": "stdout",
          "text": [
            "True\n",
            "<class 'bool'>\n"
          ]
        }
      ]
    },
    {
      "cell_type": "code",
      "source": [
        "bool_false = False\n",
        "print(bool_false)\n",
        "print(type(bool_false))"
      ],
      "metadata": {
        "colab": {
          "base_uri": "https://localhost:8080/"
        },
        "id": "c6eIjMdbmVme",
        "outputId": "aa51978a-8a7a-4841-d394-78ffd2d3e979"
      },
      "execution_count": null,
      "outputs": [
        {
          "output_type": "stream",
          "name": "stdout",
          "text": [
            "False\n",
            "<class 'bool'>\n"
          ]
        }
      ]
    },
    {
      "cell_type": "markdown",
      "source": [
        "**Set**:\n",
        "\n",
        "A set is an unordered collection of unique elements. Sets are mutable, meaning they can be modified after creation, but they cannot contain duplicate elements."
      ],
      "metadata": {
        "id": "pNGUKTXOmho6"
      }
    },
    {
      "cell_type": "code",
      "source": [
        "my_set = {1, 2, 3, 4, 5}\n",
        "print(my_set)\n",
        "print(type(my_set))"
      ],
      "metadata": {
        "colab": {
          "base_uri": "https://localhost:8080/"
        },
        "id": "bI_VWnypmc9Z",
        "outputId": "35fb16b1-552f-4ed3-8c14-4d2c522b87ee"
      },
      "execution_count": null,
      "outputs": [
        {
          "output_type": "stream",
          "name": "stdout",
          "text": [
            "{1, 2, 3, 4, 5}\n",
            "<class 'set'>\n"
          ]
        }
      ]
    },
    {
      "cell_type": "code",
      "source": [
        "my_dict = {'name': 'John', 'age': 25, 'city': 'New York'}\n",
        "print(my_dict)\n",
        "print(type(my_dict))\n"
      ],
      "metadata": {
        "colab": {
          "base_uri": "https://localhost:8080/"
        },
        "id": "F90wgK3hmnpa",
        "outputId": "83ff6a17-9fa8-4d72-f355-5b83b60b03f4"
      },
      "execution_count": null,
      "outputs": [
        {
          "output_type": "stream",
          "name": "stdout",
          "text": [
            "{'name': 'John', 'age': 25, 'city': 'New York'}\n",
            "<class 'dict'>\n"
          ]
        }
      ]
    },
    {
      "cell_type": "markdown",
      "source": [
        "**Sequence:**\n",
        "\n",
        "Strings in Python are sequences of characters enclosed in single, double, or triple quotes. They support various operations such as concatenation, slicing, and formatting."
      ],
      "metadata": {
        "id": "ffkaUzqlm1wq"
      }
    },
    {
      "cell_type": "code",
      "source": [
        "my_str = \"Hello, World!\"\n",
        "print(my_str)\n",
        "print(type(my_str))\n"
      ],
      "metadata": {
        "colab": {
          "base_uri": "https://localhost:8080/"
        },
        "id": "prMtcJ5UmxGL",
        "outputId": "4b305fe6-7e33-40d1-d419-bd1af574e8b5"
      },
      "execution_count": null,
      "outputs": [
        {
          "output_type": "stream",
          "name": "stdout",
          "text": [
            "Hello, World!\n",
            "<class 'str'>\n"
          ]
        }
      ]
    },
    {
      "cell_type": "markdown",
      "source": [
        "**List**:\n",
        "\n",
        "A list is a versatile data structure used to store collections of items. Lists are mutable, meaning they can be modified after creation. Each item in a list is indexed, and you can access elements by their index. Lists can contain items of different data types, and they can also contain other lists (nested lists)."
      ],
      "metadata": {
        "id": "oBIjwNTjBGcs"
      }
    },
    {
      "cell_type": "code",
      "source": [
        "my_list = [1, 2, 3, 4, 5]\n",
        "print(my_list)\n",
        "print(type(my_list))\n"
      ],
      "metadata": {
        "colab": {
          "base_uri": "https://localhost:8080/"
        },
        "id": "qE3nTe5Om-Xq",
        "outputId": "248cd778-a854-4d9e-c1e4-385e485f450e"
      },
      "execution_count": null,
      "outputs": [
        {
          "output_type": "stream",
          "name": "stdout",
          "text": [
            "[1, 2, 3, 4, 5]\n",
            "<class 'list'>\n"
          ]
        }
      ]
    },
    {
      "cell_type": "markdown",
      "source": [
        "**Tuple**:\n",
        "\n",
        "A tuple in Python is a collection of ordered and immutable elements. It is similar to a list, but unlike lists, tuples are immutable, meaning their elements cannot be changed after creation. Tuples are defined using parentheses () and can contain elements of different data types."
      ],
      "metadata": {
        "id": "6oT9SbfrnH-r"
      }
    },
    {
      "cell_type": "code",
      "source": [
        "my_tuple = (1, 'two', 3.0)\n",
        "print(my_tuple)\n",
        "print(type(my_tuple))\n"
      ],
      "metadata": {
        "colab": {
          "base_uri": "https://localhost:8080/"
        },
        "id": "yS10BqrNnEpO",
        "outputId": "9f015218-8a3f-48a4-ccd3-0244fb53023d"
      },
      "execution_count": null,
      "outputs": [
        {
          "output_type": "stream",
          "name": "stdout",
          "text": [
            "(1, 'two', 3.0)\n",
            "<class 'tuple'>\n"
          ]
        }
      ]
    },
    {
      "cell_type": "markdown",
      "source": [
        "**None**:\n",
        "\n",
        "`None` is a special constant representing the absence of a value or a null value. It is often used to indicate that a variable or an object does not have a meaningful value or has not been assigned yet."
      ],
      "metadata": {
        "id": "hmzBpTgwnVae"
      }
    },
    {
      "cell_type": "code",
      "source": [
        "my_none = None\n",
        "print(my_none)\n",
        "print(type(my_none))\n"
      ],
      "metadata": {
        "colab": {
          "base_uri": "https://localhost:8080/"
        },
        "id": "0IJmk8L4nQXP",
        "outputId": "5343d81c-ebfe-4909-d379-f9b3db55cb95"
      },
      "execution_count": 2,
      "outputs": [
        {
          "output_type": "stream",
          "name": "stdout",
          "text": [
            "None\n",
            "<class 'NoneType'>\n"
          ]
        }
      ]
    },
    {
      "cell_type": "code",
      "source": [
        "#Numbers, Numerical Data type\n",
        "#Integer\n",
        "#Declartion is an Object or Instance or Ref.\n",
        "PyInt=10#int Object\n",
        "print(type(PyInt))#<class 'int'>\n",
        "print(PyInt)#10\n",
        "#Float\n",
        "PyFloat=10.001#float Object\n",
        "print(type(PyFloat))#<class 'float'>\n",
        "print(PyFloat)#10.001\n",
        "#String\n",
        "PyStr=\"PYTHON\"#string Object\n",
        "print(type(PyStr))#<class 'str'>\n",
        "print(PyStr)#PYTHON\n",
        "#List\n",
        "PyList=[1,2,3,4]#list Object\n",
        "print(type(PyList))#<class 'list'>\n",
        "print(PyList)#[1, 2, 3, 4]\n",
        "#Tuple\n",
        "PyTuple=(1,2,3,4)#tuple Object\n",
        "print(type(PyTuple))#<class 'tuple'>\n",
        "print(PyTuple)#(1, 2, 3, 4)\n",
        "#Set\n",
        "PySet={1,2,3}#set Object\n",
        "print(type(PySet))#<class 'set'>\n",
        "print(PySet)#{1, 2, 3}\n",
        "#Dictionary\n",
        "PyDict={1:\"PY\",2:\"DS\"}#Dictionary Object\n",
        "print(type(PyDict))#<class 'dict'>\n",
        "print(PyDict)#{1: 'PY', 2: 'DS'}\n"
      ],
      "metadata": {
        "id": "vnEV90rgU667",
        "colab": {
          "base_uri": "https://localhost:8080/"
        },
        "outputId": "026fac58-9bb5-44b6-e962-21bec0ee5dcb"
      },
      "execution_count": 5,
      "outputs": [
        {
          "output_type": "stream",
          "name": "stdout",
          "text": [
            "<class 'int'>\n",
            "10\n",
            "<class 'float'>\n",
            "10.001\n",
            "<class 'str'>\n",
            "PYTHON\n",
            "<class 'list'>\n",
            "[1, 2, 3, 4]\n",
            "<class 'tuple'>\n",
            "(1, 2, 3, 4)\n",
            "<class 'set'>\n",
            "{1, 2, 3}\n",
            "<class 'dict'>\n",
            "{1: 'PY', 2: 'DS'}\n"
          ]
        }
      ]
    },
    {
      "cell_type": "code",
      "source": [],
      "metadata": {
        "id": "5-ZzXAUPInjq"
      },
      "execution_count": 1,
      "outputs": []
    }
  ]
}