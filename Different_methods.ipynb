{
  "nbformat": 4,
  "nbformat_minor": 0,
  "metadata": {
    "colab": {
      "provenance": []
    },
    "kernelspec": {
      "name": "python3",
      "display_name": "Python 3"
    },
    "language_info": {
      "name": "python"
    }
  },
  "cells": [
    {
      "cell_type": "markdown",
      "metadata": {
        "id": "open-in-colab-badge"
      },
      "source": [
        "[![Open In Colab](https://colab.research.google.com/assets/colab-badge.svg)](https://colab.research.google.com/github/Shiva-panda/python/blob/main/methods_demo.ipynb)"
      ]
    },
    {
      "cell_type": "markdown",
      "metadata": {
        "id": "QFSF9PXCQ5Cn"
      },
      "source": [
        "## Different types of methods in Python with their syntax and examples"
      ]
    },
    {
      "cell_type": "code",
      "execution_count": 1,
      "metadata": {
        "colab": {
          "base_uri": "https://localhost:8080/"
        },
        "id": "Z0AlZF9AQzCV",
        "outputId": "6bb3d2d4-c30c-43c8-f51b-14dae394a4de"
      },
      "outputs": [
        {
          "output_type": "stream",
          "name": "stdout",
          "text": [
            "123\n",
            "123.000000\n",
            "0.666667\n",
            "0.667\n",
            "0.7\n",
            "Hello\n",
            "Hello\n",
            "H\n",
            "Hell\n",
            "Hello\n",
            "123                                     \n",
            "                                     123\n",
            "                 Hello                  \n"
          ]
        }
      ],
      "source": [
        "'''format() function:\n",
        "It returns a formatted representation of the given value controlled by the format specifier.\n",
        "\n",
        "Syntax:\n",
        "format(value[, format_spec])\n",
        "\n",
        "'<' \tThe field will be left-aligned within the available space\n",
        "'>' \tThe field will be right-aligned within the available space\n",
        "'^' \tForces the field to be center within the available space.\n",
        "\n",
        "Example:\n",
        "print(format(123, \"d\"))\n",
        "print(format(123.4567898, \"f\"))\n",
        "print(format(8/9,\".3f\"))\n",
        "\n",
        "Example:'''\n",
        "print(format(123,'d'))#d-digit, integer\n",
        "print(format(123,'f'))#f-float\n",
        "print(format(2/3,'f'))\n",
        "print(format(2/3,'.3f'))#.3f 3-float values\n",
        "print(format(2/3,'.1f'))#.1f 1-float value\n",
        "print(format(\"Hello\"))\n",
        "print(format(\"Hello\",'s'))\n",
        "print(format(\"Hello\",'.1s'))\n",
        "print(format(\"Hello\",'.4s'))\n",
        "print(format(\"Hello\",'.6s'))\n",
        "\n",
        "print(format(123, \"<40\"))\n",
        "print(format(123, \">40\"))\n",
        "print(format(\"Hello\", \"^40\"))\n"
      ]
    },
    {
      "cell_type": "code",
      "source": [
        "'''abs() function in Python returns the absolute value of a number. This means it returns the magnitude of the number, regardless of its sign.\n",
        "examples:'''\n",
        "#for integer\n",
        "num_int = -10\n",
        "absolute_value_int = abs(num_int)\n",
        "print(f\"The absolute value of {num_int} is: {absolute_value_int}\")\n",
        "\n",
        "num_int_positive = 5\n",
        "absolute_value_int_positive = abs(num_int_positive)\n",
        "print(f\"The absolute value of {num_int_positive} is: {absolute_value_int_positive}\")\n",
        "\n",
        "#for float\n",
        "num_float = -3.14\n",
        "absolute_value_float = abs(num_float)\n",
        "print(f\"The absolute value of {num_float} is: {absolute_value_float}\")\n",
        "\n",
        "num_float_positive = 2.718\n",
        "absolute_value_float_positive = abs(num_float_positive)\n",
        "print(f\"The absolute value of {num_float_positive} is: {absolute_value_float_positive}\")\n",
        "\n",
        "#for rcomplex\n",
        "'''For complex numbers, abs() returns the magnitude (or modulus) of the number, which is calculated as\n",
        "the distance from the origin in the complex plane: (sqrt{a^{2}+b^{2}}) for a complex number (a+bi).'''\n",
        "num_complex = 3 + 4j\n",
        "magnitude_complex = abs(num_complex)\n",
        "print(f\"The magnitude of {num_complex} is: {magnitude_complex}\")\n",
        "\n",
        "num_complex_negative = -2 - 5j\n",
        "magnitude_complex_negative = abs(num_complex_negative)\n",
        "print(f\"The magnitude of {num_complex_negative} is: {magnitude_complex_negative}\")"
      ],
      "metadata": {
        "colab": {
          "base_uri": "https://localhost:8080/"
        },
        "id": "PXbKkPTbMFEf",
        "outputId": "14b9a378-33e3-4bbe-f5ed-c84a2ca0c953"
      },
      "execution_count": 5,
      "outputs": [
        {
          "output_type": "stream",
          "name": "stdout",
          "text": [
            "The absolute value of -10 is: 10\n",
            "The absolute value of 5 is: 5\n",
            "The absolute value of -3.14 is: 3.14\n",
            "The absolute value of 2.718 is: 2.718\n",
            "The magnitude of (3+4j) is: 5.0\n",
            "The magnitude of (-2-5j) is: 5.385164807134504\n"
          ]
        }
      ]
    },
    {
      "cell_type": "code",
      "source": [],
      "metadata": {
        "id": "mQl9hkRrRWNY"
      },
      "execution_count": null,
      "outputs": []
    }
  ]
}