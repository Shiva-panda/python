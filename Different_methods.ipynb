{
[![Open In Colab](https://colab.research.google.com/assets/colab-badge.svg)](https://colab.research.google.com/github/johndoe/python-tutorials/blob/main/methods_demo.ipynb)
  "nbformat": 4,
  "nbformat_minor": 0,
  "metadata": {
    "colab": {
      "provenance": [],
      "toc_visible": true
    },
    "kernelspec": {
      "name": "python3",
      "display_name": "Python 3"
    },
    "language_info": {
      "name": "python"
    }
  },
  "cells": [
    {
      "cell_type": "markdown",
      "source": [
        "Different types of methods in python with their syntex and example"
      ],
      "metadata": {
        "id": "QFSF9PXCQ5Cn"
      }
    },
    {
      "cell_type": "code",
      "execution_count": 4,
      "metadata": {
        "colab": {
          "base_uri": "https://localhost:8080/"
        },
        "id": "Z0AlZF9AQzCV",
        "outputId": "c6768de3-4599-4765-dbe4-f12128e19ceb"
      },
      "outputs": [
        {
          "output_type": "stream",
          "name": "stdout",
          "text": [
            "123\n",
            "123.000000\n",
            "0.666667\n",
            "0.667\n",
            "0.7\n",
            "Hello\n",
            "Hello\n",
            "H\n",
            "Hell\n",
            "Hello\n",
            "123                                     \n",
            "                                     123\n",
            "                 Hello                  \n"
          ]
        }
      ],
      "source": [
        "'''format() function:\n",
        "It returns a formatted representation of the given value controlled by the format specifier.\n",
        "\n",
        "Syntax:\n",
        "format(value[, format_spec])\n",
        "\n",
        "'<' \tThe field will be left-aligned within the available space\n",
        "'>' \tThe field will be right-aligned within the available space\n",
        "'^' \tForces the field to be center within the available space.\n",
        "\n",
        "Example:\n",
        "print(format(123, \"d\"))\n",
        "print(format(123.4567898, \"f\"))\n",
        "print(format(8/9,\".3f\"))\n",
        "\n",
        "Example:'''\n",
        "print(format(123,'d'))#d-digit, integer\n",
        "print(format(123,'f'))#f-float\n",
        "print(format(2/3,'f'))\n",
        "print(format(2/3,'.3f'))#.3f 3-float values\n",
        "print(format(2/3,'.1f'))#.1f 1-float value\n",
        "print(format(\"Hello\"))\n",
        "print(format(\"Hello\",'s'))\n",
        "print(format(\"Hello\",'.1s'))\n",
        "print(format(\"Hello\",'.4s'))\n",
        "print(format(\"Hello\",'.6s'))\n",
        "\n",
        "\n",
        "print(format(123, \"<40\"))\n",
        "print(format(123, \">40\"))\n",
        "print(format(\"Hello\", \"^40\"))\n",
        "\n"
      ]
    },
    {
      "cell_type": "code",
      "source": [],
      "metadata": {
        "id": "YkrDDDUQRKWl"
      },
      "execution_count": 4,
      "outputs": []
    }
  ]
}
