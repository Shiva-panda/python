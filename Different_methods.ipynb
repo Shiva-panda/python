{
  "nbformat": 4,
  "nbformat_minor": 0,
  "metadata": {
    "colab": {
      "provenance": []
    },
    "kernelspec": {
      "name": "python3",
      "display_name": "Python 3"
    },
    "language_info": {
      "name": "python"
    }
  },
  "cells": [
    {
      "cell_type": "markdown",
      "metadata": {
        "id": "open-in-colab-badge"
      },
      "source": [
        "[![Open In Colab](https://colab.research.google.com/assets/colab-badge.svg)](https://colab.research.google.com/github/Shiva-panda/python/blob/main/methods_demo.ipynb)"
      ]
    },
    {
      "cell_type": "markdown",
      "metadata": {
        "id": "QFSF9PXCQ5Cn"
      },
      "source": [
        "## Different types of methods in Python with their syntax and examples"
      ]
    },
    {
      "cell_type": "markdown",
      "source": [
        "BUILT-IN functions and methods"
      ],
      "metadata": {
        "id": "tqw-5UFVR0k2"
      }
    },
    {
      "cell_type": "code",
      "source": [
        "'''abs() function in Python returns the absolute value of a number. This means it returns the magnitude of the number, regardless of its sign.\n",
        "examples:'''\n",
        "#for integer\n",
        "num_int = -10\n",
        "absolute_value_int = abs(num_int)\n",
        "print(f\"The absolute value of {num_int} is: {absolute_value_int}\")\n",
        "\n",
        "num_int_positive = 5\n",
        "absolute_value_int_positive = abs(num_int_positive)\n",
        "print(f\"The absolute value of {num_int_positive} is: {absolute_value_int_positive}\")\n",
        "\n",
        "#for float\n",
        "num_float = -3.14\n",
        "absolute_value_float = abs(num_float)\n",
        "print(f\"The absolute value of {num_float} is: {absolute_value_float}\")\n",
        "\n",
        "num_float_positive = 2.718\n",
        "absolute_value_float_positive = abs(num_float_positive)\n",
        "print(f\"The absolute value of {num_float_positive} is: {absolute_value_float_positive}\")\n",
        "\n",
        "#for rcomplex\n",
        "'''For complex numbers, abs() returns the magnitude (or modulus) of the number, which is calculated as\n",
        "the distance from the origin in the complex plane: (sqrt{a^{2}+b^{2}}) for a complex number (a+bi).'''\n",
        "num_complex = 3 + 4j\n",
        "magnitude_complex = abs(num_complex)\n",
        "print(f\"The magnitude of {num_complex} is: {magnitude_complex}\")\n",
        "\n",
        "num_complex_negative = -2 - 5j\n",
        "magnitude_complex_negative = abs(num_complex_negative)\n",
        "print(f\"The magnitude of {num_complex_negative} is: {magnitude_complex_negative}\")"
      ],
      "metadata": {
        "colab": {
          "base_uri": "https://localhost:8080/"
        },
        "id": "PXbKkPTbMFEf",
        "outputId": "73161775-33ce-45e2-a7b3-4d44583fbc69"
      },
      "execution_count": 2,
      "outputs": [
        {
          "output_type": "stream",
          "name": "stdout",
          "text": [
            "The absolute value of -10 is: 10\n",
            "The absolute value of 5 is: 5\n",
            "The absolute value of -3.14 is: 3.14\n",
            "The absolute value of 2.718 is: 2.718\n",
            "The magnitude of (3+4j) is: 5.0\n",
            "The magnitude of (-2-5j) is: 5.385164807134504\n"
          ]
        }
      ]
    },
    {
      "cell_type": "code",
      "source": [
        "'''all() method :The Python built-in function all() takes an iterable (such as a list, tuple, set, or dictionary) as an argument and returns\n",
        "True if all elements in the iterable are considered \"truthy.\" If any element is \"falsy\" or if the iterable is empty, it returns False.'''\n",
        "\n",
        "# All elements are truthy\n",
        "list1 = [1, 2, 3, \"hello\"]\n",
        "print(all(list1))\n",
        "\n",
        "# One element is falsy (0)\n",
        "list2 = [1, 0, 3]\n",
        "print(all(list2))\n",
        "\n",
        "# Empty list\n",
        "list3 = []\n",
        "print(all(list3))\n",
        "\n",
        "# Tuple with None\n",
        "tuple1 = (True, None, 5)\n",
        "print(all(tuple1))\n",
        "\n",
        "# Dictionary (checks keys for truthiness)\n",
        "#by defult it itterate through key of dictonary if i want to check the all function in the values then we have to write print(all(dict1.values()))\n",
        "dict1 = {1: \"a\", 0: \"b\"}\n",
        "print(all(dict1))\n",
        "print(all(dict1.values()))\n",
        "\n",
        "dict2 = {0: \"a\", 1: \"b\"}\n",
        "print(all(dict2))"
      ],
      "metadata": {
        "colab": {
          "base_uri": "https://localhost:8080/"
        },
        "id": "htURMI4hS3d8",
        "outputId": "db6fcd48-75b3-4f86-d6ab-9ccb57f31aa4"
      },
      "execution_count": 16,
      "outputs": [
        {
          "output_type": "stream",
          "name": "stdout",
          "text": [
            "True\n",
            "False\n",
            "True\n",
            "False\n",
            "False\n",
            "True\n",
            "False\n"
          ]
        }
      ]
    },
    {
      "cell_type": "code",
      "source": [
        "'''any(iterable): This function takes a single argument, an iterable (such as a list, tuple, set, or dictionary).\n",
        "It returns True if at least one element in the iterable is considered \"truthy.\"\n",
        "It returns False if all elements in the iterable are \"falsy\" or if the iterable is empty.'''\n",
        "\n",
        "\n",
        "# With a list containing a truthy value\n",
        "my_list_1 = [0, False, \"\", 5, None]\n",
        "result_1 = any(my_list_1)\n",
        "print(f\"any({my_list_1}) -> {result_1}\")\n",
        "\n",
        "# With a list containing only falsy values\n",
        "my_list_2 = [0, False, \"\", None]\n",
        "result_2 = any(my_list_2)\n",
        "print(f\"any({my_list_2}) -> {result_2}\")\n",
        "\n",
        "# With an empty list\n",
        "empty_list = []\n",
        "result_3 = any(empty_list)\n",
        "print(f\"any({empty_list}) -> {result_3}\")\n",
        "\n",
        "# With a dictionary (checks keys for truthiness)\n",
        "my_dict = {0: \"value1\", 1: \"value2\"}\n",
        "result_4 = any(my_dict)\n",
        "print(f\"any({my_dict}) -> {result_4}\")\n"
      ],
      "metadata": {
        "colab": {
          "base_uri": "https://localhost:8080/"
        },
        "id": "gPBQGFNOTut5",
        "outputId": "757b8f5b-d884-4ca0-b07f-5040cc6f0350"
      },
      "execution_count": 10,
      "outputs": [
        {
          "output_type": "stream",
          "name": "stdout",
          "text": [
            "any([0, False, '', 5, None]) -> True\n",
            "any([0, False, '', None]) -> False\n",
            "any([]) -> False\n",
            "any({'': 0}) -> False\n"
          ]
        }
      ]
    },
    {
      "cell_type": "code",
      "source": [
        "'''The ascii() function in Python is a built-in function that returns a printable representation of an object, similar to repr(), but with the crucial\n",
        "difference that it escapes any non-ASCII characters using x, u, or U  escape sequences. This ensures that the returned string contains only ASCII characters.\n",
        "\n",
        "Parameter:\n",
        "object: The object for which you want to obtain an ASCII representation. This can be a string, list, tuple, set, or any\n",
        "other Python object.\n",
        "Return Value:\n",
        "The ascii() function returns a string that represents the input object using only ASCII characters. Non-ASCII characters\n",
        "are replaced by their corresponding escape sequence'''\n",
        "\n",
        "text1 = \"Hello, Pythön!\"\n",
        "text2 = \"The square root symbol is √\"\n",
        "\n",
        "print(ascii(text1))\n",
        "print(ascii(text2))\n",
        "print(ascii([\"apple\", \"bannana\", \"français\"]))"
      ],
      "metadata": {
        "colab": {
          "base_uri": "https://localhost:8080/"
        },
        "id": "wGsFygRdTuqg",
        "outputId": "998c78a3-9001-4fd7-dd41-1fbf3a98a897"
      },
      "execution_count": 23,
      "outputs": [
        {
          "output_type": "stream",
          "name": "stdout",
          "text": [
            "'Hello, Pyth\\xf6n!'\n",
            "'The square root symbol is \\u221a'\n",
            "['apple', 'bannana', 'fran\\xe7ais']\n"
          ]
        }
      ]
    },
    {
      "cell_type": "code",
      "source": [],
      "metadata": {
        "id": "l54_VHxuTuoV"
      },
      "execution_count": null,
      "outputs": []
    },
    {
      "cell_type": "code",
      "source": [],
      "metadata": {
        "id": "eIP_oVqtajqF"
      },
      "execution_count": null,
      "outputs": []
    },
    {
      "cell_type": "code",
      "source": [],
      "metadata": {
        "id": "ZzPY1hYpajmm"
      },
      "execution_count": null,
      "outputs": []
    },
    {
      "cell_type": "markdown",
      "source": [
        "The functionality of int and float relies heavily on Python's built-in functions and \"magic methods\" (like __add__ and __mul__), which are called implicitly by operators like + and *.\n",
        "Behavior through operators: You don't use a method like 5.add(3). Instead, you use the + operator (5 + 3), which internally calls the __add__ magic method.\n",
        "Behavior through built-in functions: Standard numerical operations, such as abs(), round(), divmod(), and pow(), are handled by built-in functions that work with all numeric types, not just as methods on a specific class.\n",
        "Domain-specific methods: A string has many specialized tasks (case conversion, searching, replacing), and a list has many ways it can be modified (appending, inserting, removing). An int or float performs more standard, universal numeric operations, many of which are already handled by Python's operators and built-in functions."
      ],
      "metadata": {
        "id": "PcJdTeA-bpTI"
      }
    },
    {
      "cell_type": "markdown",
      "source": [
        "int class methods"
      ],
      "metadata": {
        "id": "yTR8lwlqR9K8"
      }
    },
    {
      "cell_type": "code",
      "source": [
        "class MyNumber:\n",
        "        def __init__(self, value):\n",
        "            self.value = value\n",
        "\n",
        "        def __int__(self):\n",
        "            # Define how this object should be converted to an integer\n",
        "            return int(self.value)\n",
        "my_obj = MyNumber(42.5)\n",
        "integer_representation = int(my_obj)\n",
        "print(f\"Integer representation of MyNumber object: {integer_representation}\")"
      ],
      "metadata": {
        "id": "mQl9hkRrRWNY",
        "colab": {
          "base_uri": "https://localhost:8080/"
        },
        "outputId": "89561ae6-4e56-4713-aa7d-07f1f3a9e9e3"
      },
      "execution_count": 27,
      "outputs": [
        {
          "output_type": "stream",
          "name": "stdout",
          "text": [
            "Integer representation of MyNumber object: 42\n"
          ]
        }
      ]
    },
    {
      "cell_type": "code",
      "source": [
        "'''.bit_length(): Returns the number of bits required to represent an integer in binary.\n",
        ".to_bytes(): Returns a byte representation of the integer.\n",
        ".from_bytes(): A class method that returns an integer from a given array of bytes.\n",
        ".bit_count(): Returns the number of ones in the binary representation of the integer (available since Python 3.10).\n",
        ".as_integer_ratio(): Returns a pair of integers representing the number as a ratio (e.g., (5, 1) for the integer 5). This is mainly for consistency with floats.'''"
      ],
      "metadata": {
        "id": "AADGbPj4akh1",
        "outputId": "a8feefdf-57ee-4a61-8b66-129b673e41f4",
        "colab": {
          "base_uri": "https://localhost:8080/",
          "height": 87
        }
      },
      "execution_count": 29,
      "outputs": [
        {
          "output_type": "execute_result",
          "data": {
            "text/plain": [
              "'.bit_length(): Returns the number of bits required to represent an integer in binary.\\n.to_bytes(): Returns a byte representation of the integer.\\n.from_bytes(): A class method that returns an integer from a given array of bytes.\\n.bit_count(): Returns the number of ones in the binary representation of the integer (available since Python 3.10).\\n.as_integer_ratio(): Returns a pair of integers representing the number as a ratio (e.g., (5, 1) for the integer 5). This is mainly for consistency with floats.'"
            ],
            "application/vnd.google.colaboratory.intrinsic+json": {
              "type": "string"
            }
          },
          "metadata": {},
          "execution_count": 29
        }
      ]
    },
    {
      "cell_type": "markdown",
      "source": [
        "float class methods"
      ],
      "metadata": {
        "id": "uz2vz4D4SDRn"
      }
    },
    {
      "cell_type": "code",
      "source": [
        "'''float methods\n",
        ".is_integer(): Returns True if the float has an integral value, otherwise False.\n",
        ".as_integer_ratio(): Returns a pair of integers whose ratio is exactly equal to the original float.\n",
        ".hex(): Returns a hexadecimal representation of the float.\n",
        ".fromhex(): A static method that constructs a float from a hexadecimal string'''"
      ],
      "metadata": {
        "colab": {
          "base_uri": "https://localhost:8080/",
          "height": 70
        },
        "id": "FvLg4p9PSF53",
        "outputId": "e83559c0-8c28-4cfa-da84-65ee5206acae"
      },
      "execution_count": 30,
      "outputs": [
        {
          "output_type": "execute_result",
          "data": {
            "text/plain": [
              "'float methods\\n.is_integer(): Returns True if the float has an integral value, otherwise False.\\n.as_integer_ratio(): Returns a pair of integers whose ratio is exactly equal to the original float.\\n.hex(): Returns a hexadecimal representation of the float.\\n.fromhex(): A static method that constructs a float from a hexadecimal string'"
            ],
            "application/vnd.google.colaboratory.intrinsic+json": {
              "type": "string"
            }
          },
          "metadata": {},
          "execution_count": 30
        }
      ]
    },
    {
      "cell_type": "markdown",
      "source": [
        "string class methods"
      ],
      "metadata": {
        "id": "PXM7ubssSGfX"
      }
    },
    {
      "cell_type": "code",
      "source": [
        "'''format() function:\n",
        "It returns a formatted representation of the given value controlled by the format specifier.\n",
        "\n",
        "Syntax:\n",
        "format(value[, format_spec])\n",
        "\n",
        "'<' \tThe field will be left-aligned within the available space\n",
        "'>' \tThe field will be right-aligned within the available space\n",
        "'^' \tForces the field to be center within the available space.\n",
        "\n",
        "Example:\n",
        "print(format(123, \"d\"))\n",
        "print(format(123.4567898, \"f\"))\n",
        "print(format(8/9,\".3f\"))\n",
        "\n",
        "Example:'''\n",
        "print(format(123,'d'))#d-digit, integer\n",
        "print(format(123,'f'))#f-float\n",
        "print(format(2/3,'f'))\n",
        "print(format(2/3,'.3f'))#.3f 3-float values\n",
        "print(format(2/3,'.1f'))#.1f 1-float value\n",
        "print(format(\"Hello\"))\n",
        "print(format(\"Hello\",'s'))\n",
        "print(format(\"Hello\",'.1s'))\n",
        "print(format(\"Hello\",'.4s'))\n",
        "print(format(\"Hello\",'.6s'))\n",
        "\n",
        "print(format(123, \"<40\"))\n",
        "print(format(123, \">40\"))\n",
        "print(format(\"Hello\", \"^40\"))"
      ],
      "metadata": {
        "colab": {
          "base_uri": "https://localhost:8080/"
        },
        "id": "eFSDIavxSKc5",
        "outputId": "ef3222b1-f626-4c5b-f571-880d697232f4"
      },
      "execution_count": 3,
      "outputs": [
        {
          "output_type": "stream",
          "name": "stdout",
          "text": [
            "123\n",
            "123.000000\n",
            "0.666667\n",
            "0.667\n",
            "0.7\n",
            "Hello\n",
            "Hello\n",
            "H\n",
            "Hell\n",
            "Hello\n",
            "123                                     \n",
            "                                     123\n",
            "                 Hello                  \n"
          ]
        }
      ]
    }
  ]
}