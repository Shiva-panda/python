{
  "nbformat": 4,
  "nbformat_minor": 0,
  "metadata": {
    "colab": {
      "provenance": []
    },
    "kernelspec": {
      "name": "python3",
      "display_name": "Python 3"
    },
    "language_info": {
      "name": "python"
    }
  },
  "cells": [
    {
      "cell_type": "markdown",
      "metadata": {
        "id": "open-in-colab-badge"
      },
      "source": [
        "[![Open In Colab](https://colab.research.google.com/assets/colab-badge.svg)](https://colab.research.google.com/github/Shiva-panda/python/blob/main/methods_demo.ipynb)"
      ]
    },
    {
      "cell_type": "markdown",
      "metadata": {
        "id": "QFSF9PXCQ5Cn"
      },
      "source": [
        "## Different types of methods in Python with their syntax and examples"
      ]
    },
    {
      "cell_type": "code",
      "execution_count": 1,
      "metadata": {
        "id": "Z0AlZF9AQzCV"
      },
      "outputs": [],
      "source": [
        "\n"
      ]
    },
    {
      "cell_type": "markdown",
      "source": [
        "BUILT-IN functions and methods"
      ],
      "metadata": {
        "id": "tqw-5UFVR0k2"
      }
    },
    {
      "cell_type": "code",
      "source": [
        "'''abs() function in Python returns the absolute value of a number. This means it returns the magnitude of the number, regardless of its sign.\n",
        "examples:'''\n",
        "#for integer\n",
        "num_int = -10\n",
        "absolute_value_int = abs(num_int)\n",
        "print(f\"The absolute value of {num_int} is: {absolute_value_int}\")\n",
        "\n",
        "num_int_positive = 5\n",
        "absolute_value_int_positive = abs(num_int_positive)\n",
        "print(f\"The absolute value of {num_int_positive} is: {absolute_value_int_positive}\")\n",
        "\n",
        "#for float\n",
        "num_float = -3.14\n",
        "absolute_value_float = abs(num_float)\n",
        "print(f\"The absolute value of {num_float} is: {absolute_value_float}\")\n",
        "\n",
        "num_float_positive = 2.718\n",
        "absolute_value_float_positive = abs(num_float_positive)\n",
        "print(f\"The absolute value of {num_float_positive} is: {absolute_value_float_positive}\")\n",
        "\n",
        "#for rcomplex\n",
        "'''For complex numbers, abs() returns the magnitude (or modulus) of the number, which is calculated as\n",
        "the distance from the origin in the complex plane: (sqrt{a^{2}+b^{2}}) for a complex number (a+bi).'''\n",
        "num_complex = 3 + 4j\n",
        "magnitude_complex = abs(num_complex)\n",
        "print(f\"The magnitude of {num_complex} is: {magnitude_complex}\")\n",
        "\n",
        "num_complex_negative = -2 - 5j\n",
        "magnitude_complex_negative = abs(num_complex_negative)\n",
        "print(f\"The magnitude of {num_complex_negative} is: {magnitude_complex_negative}\")"
      ],
      "metadata": {
        "colab": {
          "base_uri": "https://localhost:8080/"
        },
        "id": "PXbKkPTbMFEf",
        "outputId": "73161775-33ce-45e2-a7b3-4d44583fbc69"
      },
      "execution_count": 2,
      "outputs": [
        {
          "output_type": "stream",
          "name": "stdout",
          "text": [
            "The absolute value of -10 is: 10\n",
            "The absolute value of 5 is: 5\n",
            "The absolute value of -3.14 is: 3.14\n",
            "The absolute value of 2.718 is: 2.718\n",
            "The magnitude of (3+4j) is: 5.0\n",
            "The magnitude of (-2-5j) is: 5.385164807134504\n"
          ]
        }
      ]
    },
    {
      "cell_type": "code",
      "source": [
        "'''all() method :The Python built-in function all() takes an iterable (such as a list, tuple, set, or dictionary) as an argument and returns\n",
        "True if all elements in the iterable are considered \"truthy.\" If any element is \"falsy\" or if the iterable is empty, it returns False.'''\n",
        "\n",
        "# All elements are truthy\n",
        "list1 = [1, 2, 3, \"hello\"]\n",
        "print(all(list1))\n",
        "\n",
        "# One element is falsy (0)\n",
        "list2 = [1, 0, 3]\n",
        "print(all(list2))\n",
        "\n",
        "# Empty list\n",
        "list3 = []\n",
        "print(all(list3))\n",
        "\n",
        "# Tuple with None\n",
        "tuple1 = (True, None, 5)\n",
        "print(all(tuple1))\n",
        "\n",
        "# Dictionary (checks keys for truthiness)\n",
        "#by defult it itterate through key of dictonary if i want to check the all function in the values then we have to write print(all(dict1.values()))\n",
        "dict1 = {1: \"a\", 0: \"b\"}\n",
        "print(all(dict1))\n",
        "print(all(dict1.values()))\n",
        "\n",
        "dict2 = {0: \"a\", 1: \"b\"}\n",
        "print(all(dict2))"
      ],
      "metadata": {
        "id": "htURMI4hS3d8",
        "outputId": "db6fcd48-75b3-4f86-d6ab-9ccb57f31aa4",
        "colab": {
          "base_uri": "https://localhost:8080/"
        }
      },
      "execution_count": 16,
      "outputs": [
        {
          "output_type": "stream",
          "name": "stdout",
          "text": [
            "True\n",
            "False\n",
            "True\n",
            "False\n",
            "False\n",
            "True\n",
            "False\n"
          ]
        }
      ]
    },
    {
      "cell_type": "code",
      "source": [
        "'''any(iterable): This function takes a single argument, an iterable (such as a list, tuple, set, or dictionary).\n",
        "It returns True if at least one element in the iterable is considered \"truthy.\"\n",
        "It returns False if all elements in the iterable are \"falsy\" or if the iterable is empty.'''\n",
        "\n",
        "\n",
        "# With a list containing a truthy value\n",
        "my_list_1 = [0, False, \"\", 5, None]\n",
        "result_1 = any(my_list_1)\n",
        "print(f\"any({my_list_1}) -> {result_1}\")\n",
        "\n",
        "# With a list containing only falsy values\n",
        "my_list_2 = [0, False, \"\", None]\n",
        "result_2 = any(my_list_2)\n",
        "print(f\"any({my_list_2}) -> {result_2}\")\n",
        "\n",
        "# With an empty list\n",
        "empty_list = []\n",
        "result_3 = any(empty_list)\n",
        "print(f\"any({empty_list}) -> {result_3}\")\n",
        "\n",
        "# With a dictionary (checks keys for truthiness)\n",
        "my_dict = {0: \"value1\", 1: \"value2\"}\n",
        "result_4 = any(my_dict)\n",
        "print(f\"any({my_dict}) -> {result_4}\")\n"
      ],
      "metadata": {
        "id": "gPBQGFNOTut5",
        "outputId": "757b8f5b-d884-4ca0-b07f-5040cc6f0350",
        "colab": {
          "base_uri": "https://localhost:8080/"
        }
      },
      "execution_count": 10,
      "outputs": [
        {
          "output_type": "stream",
          "name": "stdout",
          "text": [
            "any([0, False, '', 5, None]) -> True\n",
            "any([0, False, '', None]) -> False\n",
            "any([]) -> False\n",
            "any({'': 0}) -> False\n"
          ]
        }
      ]
    },
    {
      "cell_type": "code",
      "source": [],
      "metadata": {
        "id": "wGsFygRdTuqg"
      },
      "execution_count": null,
      "outputs": []
    },
    {
      "cell_type": "code",
      "source": [],
      "metadata": {
        "id": "l54_VHxuTuoV"
      },
      "execution_count": null,
      "outputs": []
    },
    {
      "cell_type": "markdown",
      "source": [
        "int class methods"
      ],
      "metadata": {
        "id": "yTR8lwlqR9K8"
      }
    },
    {
      "cell_type": "code",
      "source": [],
      "metadata": {
        "id": "mQl9hkRrRWNY"
      },
      "execution_count": null,
      "outputs": []
    },
    {
      "cell_type": "markdown",
      "source": [
        "float class methods"
      ],
      "metadata": {
        "id": "uz2vz4D4SDRn"
      }
    },
    {
      "cell_type": "code",
      "source": [],
      "metadata": {
        "id": "FvLg4p9PSF53"
      },
      "execution_count": null,
      "outputs": []
    },
    {
      "cell_type": "markdown",
      "source": [
        "string class methods"
      ],
      "metadata": {
        "id": "PXM7ubssSGfX"
      }
    },
    {
      "cell_type": "code",
      "source": [
        "'''format() function:\n",
        "It returns a formatted representation of the given value controlled by the format specifier.\n",
        "\n",
        "Syntax:\n",
        "format(value[, format_spec])\n",
        "\n",
        "'<' \tThe field will be left-aligned within the available space\n",
        "'>' \tThe field will be right-aligned within the available space\n",
        "'^' \tForces the field to be center within the available space.\n",
        "\n",
        "Example:\n",
        "print(format(123, \"d\"))\n",
        "print(format(123.4567898, \"f\"))\n",
        "print(format(8/9,\".3f\"))\n",
        "\n",
        "Example:'''\n",
        "print(format(123,'d'))#d-digit, integer\n",
        "print(format(123,'f'))#f-float\n",
        "print(format(2/3,'f'))\n",
        "print(format(2/3,'.3f'))#.3f 3-float values\n",
        "print(format(2/3,'.1f'))#.1f 1-float value\n",
        "print(format(\"Hello\"))\n",
        "print(format(\"Hello\",'s'))\n",
        "print(format(\"Hello\",'.1s'))\n",
        "print(format(\"Hello\",'.4s'))\n",
        "print(format(\"Hello\",'.6s'))\n",
        "\n",
        "print(format(123, \"<40\"))\n",
        "print(format(123, \">40\"))\n",
        "print(format(\"Hello\", \"^40\"))"
      ],
      "metadata": {
        "id": "eFSDIavxSKc5",
        "outputId": "ef3222b1-f626-4c5b-f571-880d697232f4",
        "colab": {
          "base_uri": "https://localhost:8080/"
        }
      },
      "execution_count": 3,
      "outputs": [
        {
          "output_type": "stream",
          "name": "stdout",
          "text": [
            "123\n",
            "123.000000\n",
            "0.666667\n",
            "0.667\n",
            "0.7\n",
            "Hello\n",
            "Hello\n",
            "H\n",
            "Hell\n",
            "Hello\n",
            "123                                     \n",
            "                                     123\n",
            "                 Hello                  \n"
          ]
        }
      ]
    }
  ]
}